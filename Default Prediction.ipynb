{
  "nbformat": 4,
  "nbformat_minor": 0,
  "metadata": {
    "colab": {
      "provenance": []
    },
    "kernelspec": {
      "name": "python3",
      "display_name": "Python 3"
    },
    "language_info": {
      "name": "python"
    }
  },
  "cells": [
    {
      "cell_type": "code",
      "execution_count": 1,
      "metadata": {
        "colab": {
          "base_uri": "https://localhost:8080/"
        },
        "id": "IlWAleFqmDm2",
        "outputId": "6febf719-f39a-4aad-ca8b-497181919ceb"
      },
      "outputs": [
        {
          "output_type": "stream",
          "name": "stdout",
          "text": [
            "Looking in indexes: https://pypi.org/simple, https://us-python.pkg.dev/colab-wheels/public/simple/\n",
            "Collecting pyspark\n",
            "  Downloading pyspark-3.3.1.tar.gz (281.4 MB)\n",
            "\u001b[2K     \u001b[90m━━━━━━━━━━━━━━━━━━━━━━━━━━━━━━━━━━━━━━━\u001b[0m \u001b[32m281.4/281.4 MB\u001b[0m \u001b[31m3.6 MB/s\u001b[0m eta \u001b[36m0:00:00\u001b[0m\n",
            "\u001b[?25h  Preparing metadata (setup.py) ... \u001b[?25l\u001b[?25hdone\n",
            "Collecting py4j==0.10.9.5\n",
            "  Downloading py4j-0.10.9.5-py2.py3-none-any.whl (199 kB)\n",
            "\u001b[2K     \u001b[90m━━━━━━━━━━━━━━━━━━━━━━━━━━━━━━━━━━━━━━━\u001b[0m \u001b[32m199.7/199.7 KB\u001b[0m \u001b[31m6.3 MB/s\u001b[0m eta \u001b[36m0:00:00\u001b[0m\n",
            "\u001b[?25hBuilding wheels for collected packages: pyspark\n",
            "  Building wheel for pyspark (setup.py) ... \u001b[?25l\u001b[?25hdone\n",
            "  Created wheel for pyspark: filename=pyspark-3.3.1-py2.py3-none-any.whl size=281845512 sha256=d804a6476f6db2c8a828b1b21de67fa87708f93a414325cd9561d746861c042c\n",
            "  Stored in directory: /root/.cache/pip/wheels/43/dc/11/ec201cd671da62fa9c5cc77078235e40722170ceba231d7598\n",
            "Successfully built pyspark\n",
            "Installing collected packages: py4j, pyspark\n",
            "Successfully installed py4j-0.10.9.5 pyspark-3.3.1\n"
          ]
        }
      ],
      "source": [
        "!pip install pyspark"
      ]
    },
    {
      "cell_type": "code",
      "source": [
        "from pyspark.sql import SparkSession\n",
        "from pyspark.sql import functions as f"
      ],
      "metadata": {
        "id": "EqRQUatcmVAo"
      },
      "execution_count": 2,
      "outputs": []
    },
    {
      "cell_type": "code",
      "source": [
        "spark = SparkSession.builder.master('local[*]').appName(\"Default Prediction with Spark\").getOrCreate()"
      ],
      "metadata": {
        "id": "d8llLnP4mVf4"
      },
      "execution_count": 3,
      "outputs": []
    },
    {
      "cell_type": "code",
      "source": [
        "dataset = spark.read.csv('dataset.csv', sep=',', header=True, inferSchema=True)"
      ],
      "metadata": {
        "id": "33oB0e_lmXT-"
      },
      "execution_count": 6,
      "outputs": []
    },
    {
      "cell_type": "code",
      "source": [
        "#The response variable is assigned the value 0 for customers who paid on time and the value 1 for default customers\n",
        "#Although the database has many more customers who paid on time than default customers, no treatment was performed to balance the database\n",
        "dataset.groupBy('TARGET').count().show()"
      ],
      "metadata": {
        "colab": {
          "base_uri": "https://localhost:8080/"
        },
        "id": "FUtkn5zpmcWu",
        "outputId": "b4e6edb8-1130-4fef-d952-5debe80b2735"
      },
      "execution_count": 7,
      "outputs": [
        {
          "output_type": "stream",
          "name": "stdout",
          "text": [
            "+------+------+\n",
            "|TARGET| count|\n",
            "+------+------+\n",
            "|     1| 24825|\n",
            "|     0|282686|\n",
            "+------+------+\n",
            "\n"
          ]
        }
      ]
    },
    {
      "cell_type": "code",
      "source": [
        "#Selecting only the variables of interest for the models\n",
        "dataset = dataset.select('TARGET','NAME_CONTRACT_TYPE','CODE_GENDER','FLAG_OWN_CAR','FLAG_OWN_REALTY','CNT_CHILDREN','AMT_INCOME_TOTAL','AMT_CREDIT',\n",
        "                     'AMT_ANNUITY', 'AMT_GOODS_PRICE','NAME_INCOME_TYPE','NAME_EDUCATION_TYPE','NAME_HOUSING_TYPE','REGION_POPULATION_RELATIVE',\n",
        "                     'DAYS_BIRTH','DAYS_EMPLOYED','FLAG_MOBIL','OCCUPATION_TYPE', 'CNT_FAM_MEMBERS','ORGANIZATION_TYPE', \n",
        "                     'NAME_TYPE_SUITE','NAME_FAMILY_STATUS', 'EXT_SOURCE_1', 'EXT_SOURCE_2', 'EXT_SOURCE_3')"
      ],
      "metadata": {
        "id": "zftBTpNCnBAp"
      },
      "execution_count": 9,
      "outputs": []
    },
    {
      "cell_type": "code",
      "source": [
        "dataset.show(5)"
      ],
      "metadata": {
        "colab": {
          "base_uri": "https://localhost:8080/"
        },
        "id": "2t6GYeykOdQy",
        "outputId": "a68d52a0-00ff-4379-83cf-51a52fba5042"
      },
      "execution_count": 12,
      "outputs": [
        {
          "output_type": "stream",
          "name": "stdout",
          "text": [
            "+------+------------------+-----------+------------+---------------+------------+----------------+----------+-----------+---------------+----------------+--------------------+-----------------+--------------------------+----------+-------------+----------+---------------+---------------+--------------------+---------------+--------------------+-------------------+------------------+-------------------+\n",
            "|TARGET|NAME_CONTRACT_TYPE|CODE_GENDER|FLAG_OWN_CAR|FLAG_OWN_REALTY|CNT_CHILDREN|AMT_INCOME_TOTAL|AMT_CREDIT|AMT_ANNUITY|AMT_GOODS_PRICE|NAME_INCOME_TYPE| NAME_EDUCATION_TYPE|NAME_HOUSING_TYPE|REGION_POPULATION_RELATIVE|DAYS_BIRTH|DAYS_EMPLOYED|FLAG_MOBIL|OCCUPATION_TYPE|CNT_FAM_MEMBERS|   ORGANIZATION_TYPE|NAME_TYPE_SUITE|  NAME_FAMILY_STATUS|       EXT_SOURCE_1|      EXT_SOURCE_2|       EXT_SOURCE_3|\n",
            "+------+------------------+-----------+------------+---------------+------------+----------------+----------+-----------+---------------+----------------+--------------------+-----------------+--------------------------+----------+-------------+----------+---------------+---------------+--------------------+---------------+--------------------+-------------------+------------------+-------------------+\n",
            "|     1|        Cash loans|          M|           N|              Y|           0|        202500.0|  406597.5|    24700.5|       351000.0|         Working|Secondary / secon...|House / apartment|                  0.018801|     -9461|         -637|         1|       Laborers|            1.0|Business Entity T...|  Unaccompanied|Single / not married|0.08303696739132256|0.2629485927471776|0.13937578009978951|\n",
            "|     0|        Cash loans|          F|           N|              N|           0|        270000.0| 1293502.5|    35698.5|      1129500.0|   State servant|    Higher education|House / apartment|      0.003540999999999999|    -16765|        -1188|         1|     Core staff|            2.0|              School|         Family|             Married| 0.3112673113812225|0.6222457752555098|               null|\n",
            "|     0|   Revolving loans|          M|           Y|              Y|           0|         67500.0|  135000.0|     6750.0|       135000.0|         Working|Secondary / secon...|House / apartment|                  0.010032|    -19046|         -225|         1|       Laborers|            1.0|          Government|  Unaccompanied|Single / not married|               null|0.5559120833904428| 0.7295666907060153|\n",
            "|     0|        Cash loans|          F|           N|              Y|           0|        135000.0|  312682.5|    29686.5|       297000.0|         Working|Secondary / secon...|House / apartment|                  0.008019|    -19005|        -3039|         1|       Laborers|            2.0|Business Entity T...|  Unaccompanied|      Civil marriage|               null|0.6504416904014653|               null|\n",
            "|     0|        Cash loans|          M|           N|              Y|           0|        121500.0|  513000.0|    21865.5|       513000.0|         Working|Secondary / secon...|House / apartment|                  0.028663|    -19932|        -3038|         1|     Core staff|            1.0|            Religion|  Unaccompanied|Single / not married|               null|0.3227382869704046|               null|\n",
            "+------+------------------+-----------+------------+---------------+------------+----------------+----------+-----------+---------------+----------------+--------------------+-----------------+--------------------------+----------+-------------+----------+---------------+---------------+--------------------+---------------+--------------------+-------------------+------------------+-------------------+\n",
            "only showing top 5 rows\n",
            "\n"
          ]
        }
      ]
    },
    {
      "cell_type": "code",
      "source": [
        "dataset.printSchema()"
      ],
      "metadata": {
        "colab": {
          "base_uri": "https://localhost:8080/"
        },
        "id": "oaYr_YfnnIWX",
        "outputId": "08e574f1-5a42-4774-f38f-745bc8551326"
      },
      "execution_count": 13,
      "outputs": [
        {
          "output_type": "stream",
          "name": "stdout",
          "text": [
            "root\n",
            " |-- TARGET: integer (nullable = true)\n",
            " |-- NAME_CONTRACT_TYPE: string (nullable = true)\n",
            " |-- CODE_GENDER: string (nullable = true)\n",
            " |-- FLAG_OWN_CAR: string (nullable = true)\n",
            " |-- FLAG_OWN_REALTY: string (nullable = true)\n",
            " |-- CNT_CHILDREN: integer (nullable = true)\n",
            " |-- AMT_INCOME_TOTAL: double (nullable = true)\n",
            " |-- AMT_CREDIT: double (nullable = true)\n",
            " |-- AMT_ANNUITY: double (nullable = true)\n",
            " |-- AMT_GOODS_PRICE: double (nullable = true)\n",
            " |-- NAME_INCOME_TYPE: string (nullable = true)\n",
            " |-- NAME_EDUCATION_TYPE: string (nullable = true)\n",
            " |-- NAME_HOUSING_TYPE: string (nullable = true)\n",
            " |-- REGION_POPULATION_RELATIVE: double (nullable = true)\n",
            " |-- DAYS_BIRTH: integer (nullable = true)\n",
            " |-- DAYS_EMPLOYED: integer (nullable = true)\n",
            " |-- FLAG_MOBIL: integer (nullable = true)\n",
            " |-- OCCUPATION_TYPE: string (nullable = true)\n",
            " |-- CNT_FAM_MEMBERS: double (nullable = true)\n",
            " |-- ORGANIZATION_TYPE: string (nullable = true)\n",
            " |-- NAME_TYPE_SUITE: string (nullable = true)\n",
            " |-- NAME_FAMILY_STATUS: string (nullable = true)\n",
            " |-- EXT_SOURCE_1: double (nullable = true)\n",
            " |-- EXT_SOURCE_2: double (nullable = true)\n",
            " |-- EXT_SOURCE_3: double (nullable = true)\n",
            "\n"
          ]
        }
      ]
    },
    {
      "cell_type": "code",
      "source": [
        "dataset.select('DAYS_BIRTH').show()"
      ],
      "metadata": {
        "colab": {
          "base_uri": "https://localhost:8080/"
        },
        "id": "Z0cDhdOZnMGG",
        "outputId": "45d77509-7ad8-4171-b161-29694c7002af"
      },
      "execution_count": 14,
      "outputs": [
        {
          "output_type": "stream",
          "name": "stdout",
          "text": [
            "+----------+\n",
            "|DAYS_BIRTH|\n",
            "+----------+\n",
            "|     -9461|\n",
            "|    -16765|\n",
            "|    -19046|\n",
            "|    -19005|\n",
            "|    -19932|\n",
            "|    -16941|\n",
            "|    -13778|\n",
            "|    -18850|\n",
            "|    -20099|\n",
            "|    -14469|\n",
            "|    -10197|\n",
            "|    -20417|\n",
            "|    -13439|\n",
            "|    -14086|\n",
            "|    -14583|\n",
            "|     -8728|\n",
            "|    -12931|\n",
            "|     -9776|\n",
            "|    -17718|\n",
            "|    -11348|\n",
            "+----------+\n",
            "only showing top 20 rows\n",
            "\n"
          ]
        }
      ]
    },
    {
      "cell_type": "code",
      "source": [
        "#The DAYS_BIRTH column, which indicates the customer's date of birth, has negative values, so we'll multiply it by -1 to make the values positive\n",
        "dataset = dataset.withColumn(\"DAYS_BIRTH\", f.col(\"DAYS_BIRTH\") * -1)"
      ],
      "metadata": {
        "id": "EWXJVTWwnS7z"
      },
      "execution_count": 15,
      "outputs": []
    },
    {
      "cell_type": "markdown",
      "source": [
        "##Label Encoding\n",
        "\n"
      ],
      "metadata": {
        "id": "EoaBkXimpGJ6"
      }
    },
    {
      "cell_type": "code",
      "source": [
        "#Selecting categorical binary columns\n",
        "binary_cols = list()\n",
        "output_cols = list()\n",
        "for col in dataset.dtypes:\n",
        "  if col[1] == 'string':\n",
        "    if len(dataset.select(col[0]).distinct().collect()) == 2:\n",
        "      print(col[0]+\" , \"+col[1])\n",
        "      binary_cols.append(col[0])\n",
        "      output_cols.append(col[0] + '_' + 'ENCODED')"
      ],
      "metadata": {
        "colab": {
          "base_uri": "https://localhost:8080/"
        },
        "id": "Ogcvd3ZqHxNJ",
        "outputId": "4344e752-5715-40eb-b370-2accc41883d0"
      },
      "execution_count": 16,
      "outputs": [
        {
          "output_type": "stream",
          "name": "stdout",
          "text": [
            "NAME_CONTRACT_TYPE , string\n",
            "FLAG_OWN_CAR , string\n",
            "FLAG_OWN_REALTY , string\n"
          ]
        }
      ]
    },
    {
      "cell_type": "code",
      "source": [
        "#Label encoding the categorical binary columns\n",
        "from pyspark.ml.feature import StringIndexer\n",
        "\n",
        "indexer = StringIndexer(inputCols=binary_cols, outputCols=output_cols) \n",
        "dataset_indexed = indexer.fit(dataset).transform(dataset) "
      ],
      "metadata": {
        "id": "ynXzkZkBqTTZ"
      },
      "execution_count": 82,
      "outputs": []
    },
    {
      "cell_type": "code",
      "source": [
        "dataset_indexed = dataset_indexed.drop(*binary_cols)"
      ],
      "metadata": {
        "id": "gswnwWFFKTP-"
      },
      "execution_count": 18,
      "outputs": []
    },
    {
      "cell_type": "markdown",
      "source": [
        "##One-hot Encoding"
      ],
      "metadata": {
        "id": "M1_3xMmIjfEn"
      }
    },
    {
      "cell_type": "code",
      "source": [
        "#Selecting categorical polytomous columns\n",
        "poly_cols = list()\n",
        "output_poly_cols = list()\n",
        "output_onehot = list()\n",
        "for col in dataset_indexed.dtypes:\n",
        "  if col[1] == 'string':\n",
        "    if len(dataset_indexed.select(col[0]).distinct().collect()) > 2:\n",
        "      print(col[0]+\" , \"+col[1])\n",
        "      poly_cols.append(col[0])\n",
        "      output_poly_cols.append(col[0] + '_' + 'ENCODED')\n",
        "      output_onehot.append(col[0] + '_' + 'ONEHOT')"
      ],
      "metadata": {
        "colab": {
          "base_uri": "https://localhost:8080/"
        },
        "id": "uaDqvgoNLHjr",
        "outputId": "73043005-8a65-450f-c16f-79fa05a2941b"
      },
      "execution_count": 19,
      "outputs": [
        {
          "output_type": "stream",
          "name": "stdout",
          "text": [
            "CODE_GENDER , string\n",
            "NAME_INCOME_TYPE , string\n",
            "NAME_EDUCATION_TYPE , string\n",
            "NAME_HOUSING_TYPE , string\n",
            "OCCUPATION_TYPE , string\n",
            "ORGANIZATION_TYPE , string\n",
            "NAME_TYPE_SUITE , string\n",
            "NAME_FAMILY_STATUS , string\n"
          ]
        }
      ]
    },
    {
      "cell_type": "code",
      "source": [
        "#Checking null values in categorical polytomous columns\n",
        "dataset_indexed.select([f.count(f.when(f.isnan(c) | f.col(c).isNull(), c)).alias(c) for c in dataset_indexed.columns]\n",
        "   ).show()"
      ],
      "metadata": {
        "colab": {
          "base_uri": "https://localhost:8080/"
        },
        "id": "I32MYyawV9tn",
        "outputId": "9a29ffd3-6379-45d1-c9ee-4d47e3dff2af"
      },
      "execution_count": 20,
      "outputs": [
        {
          "output_type": "stream",
          "name": "stdout",
          "text": [
            "+------+-----------+------------+----------------+----------+-----------+---------------+----------------+-------------------+-----------------+--------------------------+----------+-------------+----------+---------------+---------------+-----------------+---------------+------------------+------------+------------+------------+--------------------------+--------------------+-----------------------+\n",
            "|TARGET|CODE_GENDER|CNT_CHILDREN|AMT_INCOME_TOTAL|AMT_CREDIT|AMT_ANNUITY|AMT_GOODS_PRICE|NAME_INCOME_TYPE|NAME_EDUCATION_TYPE|NAME_HOUSING_TYPE|REGION_POPULATION_RELATIVE|DAYS_BIRTH|DAYS_EMPLOYED|FLAG_MOBIL|OCCUPATION_TYPE|CNT_FAM_MEMBERS|ORGANIZATION_TYPE|NAME_TYPE_SUITE|NAME_FAMILY_STATUS|EXT_SOURCE_1|EXT_SOURCE_2|EXT_SOURCE_3|NAME_CONTRACT_TYPE_ENCODED|FLAG_OWN_CAR_ENCODED|FLAG_OWN_REALTY_ENCODED|\n",
            "+------+-----------+------------+----------------+----------+-----------+---------------+----------------+-------------------+-----------------+--------------------------+----------+-------------+----------+---------------+---------------+-----------------+---------------+------------------+------------+------------+------------+--------------------------+--------------------+-----------------------+\n",
            "|     0|          0|           0|               0|         0|         12|            278|               0|                  0|                0|                         0|         0|            0|         0|          96391|              2|                0|           1292|                 0|      173378|         660|       60965|                         0|                   0|                      0|\n",
            "+------+-----------+------------+----------------+----------+-----------+---------------+----------------+-------------------+-----------------+--------------------------+----------+-------------+----------+---------------+---------------+-----------------+---------------+------------------+------------+------------+------------+--------------------------+--------------------+-----------------------+\n",
            "\n"
          ]
        }
      ]
    },
    {
      "cell_type": "code",
      "source": [
        "#Dropping the null values in columns OCCUPATION_TYPE and NAME_TYPE_SUITE\n",
        "#Column EXT_SOURCE_1 has too many null values, so let's drop it\n",
        "\n",
        "dataset_indexed = dataset_indexed.na.drop(subset=[\"OCCUPATION_TYPE\",\"NAME_TYPE_SUITE\"])\n",
        "dataset_indexed = dataset_indexed.drop(\"EXT_SOURCE_1\")"
      ],
      "metadata": {
        "id": "d6kVlG32V5gx"
      },
      "execution_count": 21,
      "outputs": []
    },
    {
      "cell_type": "code",
      "source": [
        "#The first step of one-hot encoding in Spark is transform the categorical polytomous columns in numerical columns\n",
        "#Then we can convert the resultant numerical columns into one-hot encoded columns\n",
        "\n",
        "#First step: Label encoding the categorical polytomous columns\n",
        "\n",
        "indexer = StringIndexer(inputCols=poly_cols, outputCols=output_poly_cols) \n",
        "dataset_indexed = indexer.fit(dataset_indexed).transform(dataset_indexed) "
      ],
      "metadata": {
        "id": "L9iomB7yV8YA"
      },
      "execution_count": 83,
      "outputs": []
    },
    {
      "cell_type": "code",
      "source": [
        "#Second step: Convert the resultant numerical columns into one-hot encoded columns\n",
        "\n",
        "from pyspark.ml.feature import OneHotEncoder\n",
        "\n",
        "encoder = OneHotEncoder(inputCols=output_poly_cols, outputCols=output_onehot)\n",
        "df_onehot = encoder.fit(dataset_indexed).transform(dataset_indexed)"
      ],
      "metadata": {
        "id": "k5kCV8EuoqT8"
      },
      "execution_count": 84,
      "outputs": []
    },
    {
      "cell_type": "code",
      "source": [
        "df_onehot = df_onehot.drop(*poly_cols).drop(*output_poly_cols)"
      ],
      "metadata": {
        "id": "tRVIFqshXkBa"
      },
      "execution_count": 24,
      "outputs": []
    },
    {
      "cell_type": "code",
      "source": [
        "df_onehot.printSchema()"
      ],
      "metadata": {
        "colab": {
          "base_uri": "https://localhost:8080/"
        },
        "id": "-ou0ax4JZCwU",
        "outputId": "fe7a5904-9034-44ed-acba-27e399e32f85"
      },
      "execution_count": 25,
      "outputs": [
        {
          "output_type": "stream",
          "name": "stdout",
          "text": [
            "root\n",
            " |-- TARGET: integer (nullable = true)\n",
            " |-- CNT_CHILDREN: integer (nullable = true)\n",
            " |-- AMT_INCOME_TOTAL: double (nullable = true)\n",
            " |-- AMT_CREDIT: double (nullable = true)\n",
            " |-- AMT_ANNUITY: double (nullable = true)\n",
            " |-- AMT_GOODS_PRICE: double (nullable = true)\n",
            " |-- REGION_POPULATION_RELATIVE: double (nullable = true)\n",
            " |-- DAYS_BIRTH: integer (nullable = true)\n",
            " |-- DAYS_EMPLOYED: integer (nullable = true)\n",
            " |-- FLAG_MOBIL: integer (nullable = true)\n",
            " |-- CNT_FAM_MEMBERS: double (nullable = true)\n",
            " |-- EXT_SOURCE_2: double (nullable = true)\n",
            " |-- EXT_SOURCE_3: double (nullable = true)\n",
            " |-- NAME_CONTRACT_TYPE_ENCODED: double (nullable = false)\n",
            " |-- FLAG_OWN_CAR_ENCODED: double (nullable = false)\n",
            " |-- FLAG_OWN_REALTY_ENCODED: double (nullable = false)\n",
            " |-- CODE_GENDER_ONEHOT: vector (nullable = true)\n",
            " |-- NAME_INCOME_TYPE_ONEHOT: vector (nullable = true)\n",
            " |-- NAME_EDUCATION_TYPE_ONEHOT: vector (nullable = true)\n",
            " |-- NAME_HOUSING_TYPE_ONEHOT: vector (nullable = true)\n",
            " |-- OCCUPATION_TYPE_ONEHOT: vector (nullable = true)\n",
            " |-- ORGANIZATION_TYPE_ONEHOT: vector (nullable = true)\n",
            " |-- NAME_TYPE_SUITE_ONEHOT: vector (nullable = true)\n",
            " |-- NAME_FAMILY_STATUS_ONEHOT: vector (nullable = true)\n",
            "\n"
          ]
        }
      ]
    },
    {
      "cell_type": "markdown",
      "source": [
        "##Imputing Missing Values"
      ],
      "metadata": {
        "id": "dAU7dGMUjjfV"
      }
    },
    {
      "cell_type": "code",
      "source": [
        "from pyspark.ml.feature import Imputer"
      ],
      "metadata": {
        "id": "gTuWW1vTZU4N"
      },
      "execution_count": 26,
      "outputs": []
    },
    {
      "cell_type": "code",
      "source": [
        "#Imputing missing values in columns AMT_ANNUITY, EXT_SOURCE_2 and EXT_SOURCE_3 using median values\n",
        "\n",
        "imputer = Imputer(strategy='median')\n",
        "\n",
        "imputer.setInputCols([\"AMT_ANNUITY\", \"EXT_SOURCE_2\", \"EXT_SOURCE_3\"])\n",
        "imputer.setOutputCols([\"AMT_ANNUITY_OUT\", \"EXT_SOURCE_2_OUT\", \"EXT_SOURCE_3_OUT\"])"
      ],
      "metadata": {
        "colab": {
          "base_uri": "https://localhost:8080/"
        },
        "id": "iM9YXSLWZs_l",
        "outputId": "5e77183c-ebc7-4707-bc73-2bc939ebbd18"
      },
      "execution_count": 27,
      "outputs": [
        {
          "output_type": "execute_result",
          "data": {
            "text/plain": [
              "Imputer_69991882bc33"
            ]
          },
          "metadata": {},
          "execution_count": 27
        }
      ]
    },
    {
      "cell_type": "code",
      "source": [
        "model = imputer.fit(df_onehot).transform(df_onehot)"
      ],
      "metadata": {
        "id": "RzujXD0CZxJ0"
      },
      "execution_count": 28,
      "outputs": []
    },
    {
      "cell_type": "code",
      "source": [
        "model = model.drop(\"AMT_ANNUITY\", \"EXT_SOURCE_2\", \"EXT_SOURCE_3\")"
      ],
      "metadata": {
        "id": "u1N_Yxcca604"
      },
      "execution_count": 29,
      "outputs": []
    },
    {
      "cell_type": "code",
      "source": [
        "model.printSchema()"
      ],
      "metadata": {
        "colab": {
          "base_uri": "https://localhost:8080/"
        },
        "id": "RcVyqZdTa7or",
        "outputId": "fc013a06-f5ce-4c49-8f1e-1b48465503f8"
      },
      "execution_count": 30,
      "outputs": [
        {
          "output_type": "stream",
          "name": "stdout",
          "text": [
            "root\n",
            " |-- TARGET: integer (nullable = true)\n",
            " |-- CNT_CHILDREN: integer (nullable = true)\n",
            " |-- AMT_INCOME_TOTAL: double (nullable = true)\n",
            " |-- AMT_CREDIT: double (nullable = true)\n",
            " |-- AMT_GOODS_PRICE: double (nullable = true)\n",
            " |-- REGION_POPULATION_RELATIVE: double (nullable = true)\n",
            " |-- DAYS_BIRTH: integer (nullable = true)\n",
            " |-- DAYS_EMPLOYED: integer (nullable = true)\n",
            " |-- FLAG_MOBIL: integer (nullable = true)\n",
            " |-- CNT_FAM_MEMBERS: double (nullable = true)\n",
            " |-- NAME_CONTRACT_TYPE_ENCODED: double (nullable = false)\n",
            " |-- FLAG_OWN_CAR_ENCODED: double (nullable = false)\n",
            " |-- FLAG_OWN_REALTY_ENCODED: double (nullable = false)\n",
            " |-- CODE_GENDER_ONEHOT: vector (nullable = true)\n",
            " |-- NAME_INCOME_TYPE_ONEHOT: vector (nullable = true)\n",
            " |-- NAME_EDUCATION_TYPE_ONEHOT: vector (nullable = true)\n",
            " |-- NAME_HOUSING_TYPE_ONEHOT: vector (nullable = true)\n",
            " |-- OCCUPATION_TYPE_ONEHOT: vector (nullable = true)\n",
            " |-- ORGANIZATION_TYPE_ONEHOT: vector (nullable = true)\n",
            " |-- NAME_TYPE_SUITE_ONEHOT: vector (nullable = true)\n",
            " |-- NAME_FAMILY_STATUS_ONEHOT: vector (nullable = true)\n",
            " |-- AMT_ANNUITY_OUT: double (nullable = true)\n",
            " |-- EXT_SOURCE_2_OUT: double (nullable = true)\n",
            " |-- EXT_SOURCE_3_OUT: double (nullable = true)\n",
            "\n"
          ]
        }
      ]
    },
    {
      "cell_type": "markdown",
      "source": [
        "##Creating the vector"
      ],
      "metadata": {
        "id": "Bzu-xegDQxZO"
      }
    },
    {
      "cell_type": "code",
      "source": [
        "#We need to transform the dataset into a single sparse vector in order to use Logistic Regression and Random Forest\n",
        "\n",
        "from pyspark.ml.feature import VectorAssembler"
      ],
      "metadata": {
        "id": "fn9me578bWvc"
      },
      "execution_count": 31,
      "outputs": []
    },
    {
      "cell_type": "code",
      "source": [
        "model = model.withColumnRenamed('TARGET', 'label')"
      ],
      "metadata": {
        "id": "xG3OXUXKeGma"
      },
      "execution_count": 32,
      "outputs": []
    },
    {
      "cell_type": "code",
      "source": [
        "X = model.columns\n",
        "X.remove('label')\n",
        "X"
      ],
      "metadata": {
        "colab": {
          "base_uri": "https://localhost:8080/"
        },
        "id": "dU_z18ZUeLJy",
        "outputId": "00de25ca-9527-4e36-9eef-4528a10b556a"
      },
      "execution_count": 33,
      "outputs": [
        {
          "output_type": "execute_result",
          "data": {
            "text/plain": [
              "['CNT_CHILDREN',\n",
              " 'AMT_INCOME_TOTAL',\n",
              " 'AMT_CREDIT',\n",
              " 'AMT_GOODS_PRICE',\n",
              " 'REGION_POPULATION_RELATIVE',\n",
              " 'DAYS_BIRTH',\n",
              " 'DAYS_EMPLOYED',\n",
              " 'FLAG_MOBIL',\n",
              " 'CNT_FAM_MEMBERS',\n",
              " 'NAME_CONTRACT_TYPE_ENCODED',\n",
              " 'FLAG_OWN_CAR_ENCODED',\n",
              " 'FLAG_OWN_REALTY_ENCODED',\n",
              " 'CODE_GENDER_ONEHOT',\n",
              " 'NAME_INCOME_TYPE_ONEHOT',\n",
              " 'NAME_EDUCATION_TYPE_ONEHOT',\n",
              " 'NAME_HOUSING_TYPE_ONEHOT',\n",
              " 'OCCUPATION_TYPE_ONEHOT',\n",
              " 'ORGANIZATION_TYPE_ONEHOT',\n",
              " 'NAME_TYPE_SUITE_ONEHOT',\n",
              " 'NAME_FAMILY_STATUS_ONEHOT',\n",
              " 'AMT_ANNUITY_OUT',\n",
              " 'EXT_SOURCE_2_OUT',\n",
              " 'EXT_SOURCE_3_OUT']"
            ]
          },
          "metadata": {},
          "execution_count": 33
        }
      ]
    },
    {
      "cell_type": "code",
      "source": [
        "assembler = VectorAssembler(inputCols=X, outputCol='features')"
      ],
      "metadata": {
        "id": "Dee_tzZjeQj_"
      },
      "execution_count": 34,
      "outputs": []
    },
    {
      "cell_type": "code",
      "source": [
        "dataset_prep = assembler.transform(model).select('features', 'label')"
      ],
      "metadata": {
        "id": "_URNxK9ueTnK"
      },
      "execution_count": 35,
      "outputs": []
    },
    {
      "cell_type": "code",
      "source": [
        "dataset_prep.show(10, truncate=False)"
      ],
      "metadata": {
        "colab": {
          "base_uri": "https://localhost:8080/"
        },
        "id": "sKnCpA6jeXH6",
        "outputId": "048fd92d-2a74-4e0a-a7fa-c70e3b642259"
      },
      "execution_count": 36,
      "outputs": [
        {
          "output_type": "stream",
          "name": "stdout",
          "text": [
            "+------------------------------------------------------------------------------------------------------------------------------------------------------------------------------------------------------------------------------------+-----+\n",
            "|features                                                                                                                                                                                                                            |label|\n",
            "+------------------------------------------------------------------------------------------------------------------------------------------------------------------------------------------------------------------------------------+-----+\n",
            "|(115,[1,2,3,4,5,6,7,8,13,14,20,24,29,46,102,109,112,113,114],[202500.0,406597.5,351000.0,0.018801,9461.0,-637.0,1.0,1.0,1.0,1.0,1.0,1.0,1.0,1.0,1.0,1.0,24700.5,0.2629485927471776,0.13937578009978951])                            |1    |\n",
            "|(115,[1,2,3,4,5,6,7,8,11,12,16,21,24,31,52,103,108,112,113,114],[270000.0,1293502.5,1129500.0,0.003540999999999999,16765.0,-1188.0,1.0,2.0,1.0,1.0,1.0,1.0,1.0,1.0,1.0,1.0,1.0,35698.5,0.6222457752555098,0.5226973172821112])      |0    |\n",
            "|(115,[1,2,3,4,5,6,7,8,9,10,13,14,20,24,29,50,102,109,112,113,114],[67500.0,135000.0,135000.0,0.010032,19046.0,-225.0,1.0,1.0,1.0,1.0,1.0,1.0,1.0,1.0,1.0,1.0,1.0,1.0,6750.0,0.5559120833904428,0.7295666907060153])                 |0    |\n",
            "|(115,[1,2,3,4,5,6,7,8,12,14,20,24,29,46,102,110,112,113,114],[135000.0,312682.5,297000.0,0.008019,19005.0,-3039.0,1.0,2.0,1.0,1.0,1.0,1.0,1.0,1.0,1.0,1.0,29686.5,0.6504416904014653,0.5226973172821112])                           |0    |\n",
            "|(115,[1,2,3,4,5,6,7,8,13,14,20,24,31,98,102,109,112,113,114],[121500.0,513000.0,513000.0,0.028663,19932.0,-3038.0,1.0,1.0,1.0,1.0,1.0,1.0,1.0,1.0,1.0,1.0,21865.5,0.3227382869704046,0.5226973172821112])                           |0    |\n",
            "|(115,[1,2,3,4,5,6,7,8,13,16,20,24,29,48,104,108,112,113,114],[99000.0,490495.5,454500.0,0.035792000000000004,16941.0,-1588.0,1.0,2.0,1.0,1.0,1.0,1.0,1.0,1.0,1.0,1.0,27517.5,0.3542247319929012,0.6212263380626669])                |0    |\n",
            "|(115,[0,1,2,3,4,5,6,7,8,10,12,15,21,24,35,46,102,108,112,113,114],[1.0,171000.0,1560726.0,1395000.0,0.035792000000000004,13778.0,-3130.0,1.0,3.0,1.0,1.0,1.0,1.0,1.0,1.0,1.0,1.0,1.0,41301.0,0.7239998516953141,0.4920600938649263])|0    |\n",
            "|(115,[1,2,3,4,5,6,7,8,10,13,16,21,24,32,48,102,108,112,113,114],[360000.0,1530000.0,1530000.0,0.0031219999999999998,18850.0,-449.0,1.0,2.0,1.0,1.0,1.0,1.0,1.0,1.0,1.0,1.0,1.0,42075.0,0.7142792864482229,0.5406544504453575])      |0    |\n",
            "|(115,[1,2,3,4,5,6,7,8,9,13,14,20,24,29,78,102,109,112,113,114],[135000.0,405000.0,405000.0,0.019688999999999998,14469.0,-2019.0,1.0,1.0,1.0,1.0,1.0,1.0,1.0,1.0,1.0,1.0,1.0,20250.0,0.7466436294590924,0.5226973172821112])         |0    |\n",
            "|(115,[0,1,2,3,4,5,6,7,8,12,14,21,24,31,49,102,108,112,113,114],[1.0,112500.0,652500.0,652500.0,0.0228,10197.0,-679.0,1.0,3.0,1.0,1.0,1.0,1.0,1.0,1.0,1.0,1.0,21177.0,0.6518623334244781,0.363945238612397])                         |0    |\n",
            "+------------------------------------------------------------------------------------------------------------------------------------------------------------------------------------------------------------------------------------+-----+\n",
            "only showing top 10 rows\n",
            "\n"
          ]
        }
      ]
    },
    {
      "cell_type": "code",
      "source": [
        "#Splitting the dataset into train and test\n",
        "\n",
        "train, test = dataset_prep.randomSplit([0.7, 0.3])"
      ],
      "metadata": {
        "id": "rbry3P7zeYta"
      },
      "execution_count": 37,
      "outputs": []
    },
    {
      "cell_type": "code",
      "source": [
        "train.count()"
      ],
      "metadata": {
        "colab": {
          "base_uri": "https://localhost:8080/"
        },
        "id": "eidCVky4ehby",
        "outputId": "8f27dabe-2a79-45e5-bbc9-36f68f868ff8"
      },
      "execution_count": 38,
      "outputs": [
        {
          "output_type": "execute_result",
          "data": {
            "text/plain": [
              "147269"
            ]
          },
          "metadata": {},
          "execution_count": 38
        }
      ]
    },
    {
      "cell_type": "code",
      "source": [
        "test.count()"
      ],
      "metadata": {
        "colab": {
          "base_uri": "https://localhost:8080/"
        },
        "id": "YXDugidnejYy",
        "outputId": "e98fd267-2c6b-4ae9-e96d-09a378e06f69"
      },
      "execution_count": 39,
      "outputs": [
        {
          "output_type": "execute_result",
          "data": {
            "text/plain": [
              "62944"
            ]
          },
          "metadata": {},
          "execution_count": 39
        }
      ]
    },
    {
      "cell_type": "markdown",
      "source": [
        "##Logistic Regression"
      ],
      "metadata": {
        "id": "besN_xT4jTQl"
      }
    },
    {
      "cell_type": "code",
      "source": [
        "from pyspark.ml.classification import LogisticRegression"
      ],
      "metadata": {
        "id": "n-ZHB5wnen1j"
      },
      "execution_count": 40,
      "outputs": []
    },
    {
      "cell_type": "code",
      "source": [
        "lr = LogisticRegression(threshold=0.15)\n",
        "\n",
        "model_lr = lr.fit(train)\n",
        "predictions_lr_test = model_lr.transform(test)\n",
        "predictions_lr_test.show()"
      ],
      "metadata": {
        "id": "2pmdFtjDesqa",
        "colab": {
          "base_uri": "https://localhost:8080/"
        },
        "outputId": "f67d2234-7a3e-43c9-ab1f-db563747686e"
      },
      "execution_count": 53,
      "outputs": [
        {
          "output_type": "stream",
          "name": "stdout",
          "text": [
            "+--------------------+-----+--------------------+--------------------+----------+\n",
            "|            features|label|       rawPrediction|         probability|prediction|\n",
            "+--------------------+-----+--------------------+--------------------+----------+\n",
            "|(115,[0,1,2,3,4,5...|    0|[4.06926086986920...|[0.98319714546013...|       0.0|\n",
            "|(115,[0,1,2,3,4,5...|    0|[3.60116012629837...|[0.97343302513155...|       0.0|\n",
            "|(115,[0,1,2,3,4,5...|    0|[3.14546131039739...|[0.95872951182987...|       0.0|\n",
            "|(115,[0,1,2,3,4,5...|    0|[3.74708412773923...|[0.97695707934645...|       0.0|\n",
            "|(115,[0,1,2,3,4,5...|    0|[3.03051431930395...|[0.95393377955126...|       0.0|\n",
            "|(115,[0,1,2,3,4,5...|    0|[2.63547122638438...|[0.93310985097400...|       0.0|\n",
            "|(115,[0,1,2,3,4,5...|    1|[3.39879080261609...|[0.96766672351968...|       0.0|\n",
            "|(115,[0,1,2,3,4,5...|    0|[3.03155676784471...|[0.95397956736792...|       0.0|\n",
            "|(115,[0,1,2,3,4,5...|    0|[2.59150534919907...|[0.93031287340339...|       0.0|\n",
            "|(115,[0,1,2,3,4,5...|    0|[3.08896002713567...|[0.95643505301457...|       0.0|\n",
            "|(115,[0,1,2,3,4,5...|    0|[2.86914566759802...|[0.94629995048449...|       0.0|\n",
            "|(115,[0,1,2,3,4,5...|    0|[3.30138916199341...|[0.96447643641751...|       0.0|\n",
            "|(115,[0,1,2,3,4,5...|    0|[3.82920322980644...|[0.97873510067117...|       0.0|\n",
            "|(115,[0,1,2,3,4,5...|    0|[3.82066970573653...|[0.97855676750403...|       0.0|\n",
            "|(115,[0,1,2,3,4,5...|    0|[2.82946234004594...|[0.94424730408154...|       0.0|\n",
            "|(115,[0,1,2,3,4,5...|    0|[3.75697105321728...|[0.97717860681557...|       0.0|\n",
            "|(115,[0,1,2,3,4,5...|    0|[2.73463145879110...|[0.93903950159622...|       0.0|\n",
            "|(115,[0,1,2,3,4,5...|    0|[2.61006034728694...|[0.93150624667520...|       0.0|\n",
            "|(115,[0,1,2,3,4,5...|    0|[3.21778343793291...|[0.96149804223881...|       0.0|\n",
            "|(115,[0,1,2,3,4,5...|    0|[4.36960462044642...|[0.98750193495686...|       0.0|\n",
            "+--------------------+-----+--------------------+--------------------+----------+\n",
            "only showing top 20 rows\n",
            "\n"
          ]
        }
      ]
    },
    {
      "cell_type": "markdown",
      "source": [
        "##Metrics"
      ],
      "metadata": {
        "id": "DV1kkAudfCh9"
      }
    },
    {
      "cell_type": "code",
      "source": [
        "from pyspark.ml.evaluation import MulticlassClassificationEvaluator\n",
        "from pyspark.ml.evaluation import BinaryClassificationEvaluator"
      ],
      "metadata": {
        "id": "xSsKEr15SSe7"
      },
      "execution_count": 54,
      "outputs": []
    },
    {
      "cell_type": "code",
      "source": [
        "evaluator = MulticlassClassificationEvaluator()\n",
        "print(\"Accuracy: %f\" % evaluator.evaluate(predictions_lr_test, {evaluator.metricName: \"accuracy\"}))\n",
        "print(\"Precision: %f\" % evaluator.evaluate(predictions_lr_test, {evaluator.metricName: \"precisionByLabel\", evaluator.metricLabel: 1}))\n",
        "print(\"Recall: %f\" % evaluator.evaluate(predictions_lr_test, {evaluator.metricName: \"recallByLabel\", evaluator.metricLabel: 1}))\n",
        "print(\"F1: %f\" % evaluator.evaluate(predictions_lr_test, {evaluator.metricName: \"fMeasureByLabel\", evaluator.metricLabel: 1}))"
      ],
      "metadata": {
        "id": "RK1WbcI8uYAo",
        "colab": {
          "base_uri": "https://localhost:8080/"
        },
        "outputId": "566fd25a-6772-43b8-dda6-dbaff5499ba8"
      },
      "execution_count": 55,
      "outputs": [
        {
          "output_type": "stream",
          "name": "stdout",
          "text": [
            "Accuracy: 0.827593\n",
            "Precision: 0.233415\n",
            "Recall: 0.401590\n",
            "F1: 0.295233\n"
          ]
        }
      ]
    },
    {
      "cell_type": "code",
      "source": [
        "#ROC CURVE\n",
        "my_eval = BinaryClassificationEvaluator(labelCol='label')\n",
        "print(my_eval.evaluate(predictions_lr_test))"
      ],
      "metadata": {
        "colab": {
          "base_uri": "https://localhost:8080/"
        },
        "id": "5c-Mu5kZQU8Q",
        "outputId": "eed15b0c-6665-41c8-a92f-dc3fe93061f8"
      },
      "execution_count": 56,
      "outputs": [
        {
          "output_type": "stream",
          "name": "stdout",
          "text": [
            "0.7364931666486951\n"
          ]
        }
      ]
    },
    {
      "cell_type": "code",
      "source": [
        "def confusion_matrix(df):\n",
        "  tp = df.select('label', 'prediction').where((f.col('label') == 1) & (f.col('prediction') == 1)).count()\n",
        "  tn = df.select('label', 'prediction').where((f.col('label') == 0) & (f.col('prediction') == 0)).count()\n",
        "  fp = df.select('label', 'prediction').where((f.col('label') == 0) & (f.col('prediction') == 1)).count()\n",
        "  fn = df.select('label', 'prediction').where((f.col('label') == 1) & (f.col('prediction') == 0)).count()\n",
        "\n",
        "  print(' '*20, 'Predicted')\n",
        "  print(' '*20, 'Defaulter', ' '*3 ,'Non defaulter')\n",
        "  print(' '*4, 'Defaulter', ' '*6, int(tp), ' '*7, int(fn))\n",
        "  print('Actual')\n",
        "  print(' '*4, 'Non defaulter', ' '*2, int(fp), ' '*7, int(tn))"
      ],
      "metadata": {
        "id": "L3Fnv1y7fMWC"
      },
      "execution_count": 57,
      "outputs": []
    },
    {
      "cell_type": "code",
      "source": [
        "confusion_matrix(predictions_lr_test)"
      ],
      "metadata": {
        "colab": {
          "base_uri": "https://localhost:8080/"
        },
        "id": "z1QoRWXcfVMC",
        "outputId": "9d948709-9288-457d-bcf3-9e7e38c2c4d8"
      },
      "execution_count": 58,
      "outputs": [
        {
          "output_type": "stream",
          "name": "stdout",
          "text": [
            "                     Predicted\n",
            "                     Defaulter     Non defaulter\n",
            "     Defaulter        2273         3387\n",
            "Actual\n",
            "     Non defaulter    7465         49819\n"
          ]
        }
      ]
    },
    {
      "cell_type": "markdown",
      "source": [
        "##Random Forest\n"
      ],
      "metadata": {
        "id": "J-pntUDFVllQ"
      }
    },
    {
      "cell_type": "code",
      "source": [
        "from pyspark.ml.classification import RandomForestClassifier"
      ],
      "metadata": {
        "id": "r3n9sTlhVlBM"
      },
      "execution_count": 59,
      "outputs": []
    },
    {
      "cell_type": "code",
      "source": [
        "rfc = RandomForestClassifier().setThresholds([0.9,0.1])"
      ],
      "metadata": {
        "id": "qvB5oV8mpggQ"
      },
      "execution_count": 67,
      "outputs": []
    },
    {
      "cell_type": "code",
      "source": [
        "model_rfc = rfc.fit(train)\n",
        "predictions_rfc_test = model_rfc.transform(test)"
      ],
      "metadata": {
        "id": "t-ouINJ7pebx"
      },
      "execution_count": 68,
      "outputs": []
    },
    {
      "cell_type": "code",
      "source": [
        "predictions_rfc_test.show()"
      ],
      "metadata": {
        "colab": {
          "base_uri": "https://localhost:8080/"
        },
        "id": "5m4ySBXXVz7z",
        "outputId": "58bee314-c7d3-4324-aa8d-1681e95badf5"
      },
      "execution_count": 69,
      "outputs": [
        {
          "output_type": "stream",
          "name": "stdout",
          "text": [
            "+--------------------+-----+--------------------+--------------------+----------+\n",
            "|            features|label|       rawPrediction|         probability|prediction|\n",
            "+--------------------+-----+--------------------+--------------------+----------+\n",
            "|(115,[0,1,2,3,4,5...|    0|[18.3567116232080...|[0.91783558116040...|       0.0|\n",
            "|(115,[0,1,2,3,4,5...|    0|[18.3156218945254...|[0.91578109472627...|       0.0|\n",
            "|(115,[0,1,2,3,4,5...|    0|[18.3071018645747...|[0.91535509322873...|       0.0|\n",
            "|(115,[0,1,2,3,4,5...|    0|[18.3071018645747...|[0.91535509322873...|       0.0|\n",
            "|(115,[0,1,2,3,4,5...|    0|[18.2180497592217...|[0.91090248796108...|       0.0|\n",
            "|(115,[0,1,2,3,4,5...|    0|[17.8794815792501...|[0.89397407896250...|       1.0|\n",
            "|(115,[0,1,2,3,4,5...|    1|[18.3699217990762...|[0.91849608995381...|       0.0|\n",
            "|(115,[0,1,2,3,4,5...|    0|[18.2502147393508...|[0.91251073696754...|       0.0|\n",
            "|(115,[0,1,2,3,4,5...|    0|[18.2154600944029...|[0.91077300472014...|       0.0|\n",
            "|(115,[0,1,2,3,4,5...|    0|[18.3156218945254...|[0.91578109472627...|       0.0|\n",
            "|(115,[0,1,2,3,4,5...|    0|[18.3071018645747...|[0.91535509322873...|       0.0|\n",
            "|(115,[0,1,2,3,4,5...|    0|[18.3352371031386...|[0.91676185515693...|       0.0|\n",
            "|(115,[0,1,2,3,4,5...|    0|[18.3156218945254...|[0.91578109472627...|       0.0|\n",
            "|(115,[0,1,2,3,4,5...|    0|[18.3352371031386...|[0.91676185515693...|       0.0|\n",
            "|(115,[0,1,2,3,4,5...|    0|[18.3156218945254...|[0.91578109472627...|       0.0|\n",
            "|(115,[0,1,2,3,4,5...|    0|[18.3156218945254...|[0.91578109472627...|       0.0|\n",
            "|(115,[0,1,2,3,4,5...|    0|[18.2525580537630...|[0.91262790268815...|       0.0|\n",
            "|(115,[0,1,2,3,4,5...|    0|[18.2565498230855...|[0.91282749115427...|       0.0|\n",
            "|(115,[0,1,2,3,4,5...|    0|[18.4190342268008...|[0.92095171134004...|       0.0|\n",
            "|(115,[0,1,2,3,4,5...|    0|[18.4347807904871...|[0.92173903952435...|       0.0|\n",
            "+--------------------+-----+--------------------+--------------------+----------+\n",
            "only showing top 20 rows\n",
            "\n"
          ]
        }
      ]
    },
    {
      "cell_type": "code",
      "source": [
        "#Get only the first element of column probability\n",
        "from pyspark.sql.functions import udf\n",
        "from pyspark.sql.types import FloatType\n",
        "\n",
        "firstelement=udf(lambda v:float(v[0]),FloatType())\n",
        "\n",
        "predictions_rfc_test = predictions_rfc_test.withColumn(\"proba\", firstelement('probability'))\n",
        "\n",
        "predictions_rfc_test.show()"
      ],
      "metadata": {
        "colab": {
          "base_uri": "https://localhost:8080/"
        },
        "id": "hXMF5-BQxOVs",
        "outputId": "fccc8a8d-3314-4ecb-8af8-ef5e836bc0c0"
      },
      "execution_count": 70,
      "outputs": [
        {
          "output_type": "stream",
          "name": "stdout",
          "text": [
            "+--------------------+-----+--------------------+--------------------+----------+----------+\n",
            "|            features|label|       rawPrediction|         probability|prediction|     proba|\n",
            "+--------------------+-----+--------------------+--------------------+----------+----------+\n",
            "|(115,[0,1,2,3,4,5...|    0|[18.3567116232080...|[0.91783558116040...|       0.0| 0.9178356|\n",
            "|(115,[0,1,2,3,4,5...|    0|[18.3156218945254...|[0.91578109472627...|       0.0| 0.9157811|\n",
            "|(115,[0,1,2,3,4,5...|    0|[18.3071018645747...|[0.91535509322873...|       0.0| 0.9153551|\n",
            "|(115,[0,1,2,3,4,5...|    0|[18.3071018645747...|[0.91535509322873...|       0.0| 0.9153551|\n",
            "|(115,[0,1,2,3,4,5...|    0|[18.2180497592217...|[0.91090248796108...|       0.0| 0.9109025|\n",
            "|(115,[0,1,2,3,4,5...|    0|[17.8794815792501...|[0.89397407896250...|       1.0|0.89397407|\n",
            "|(115,[0,1,2,3,4,5...|    1|[18.3699217990762...|[0.91849608995381...|       0.0| 0.9184961|\n",
            "|(115,[0,1,2,3,4,5...|    0|[18.2502147393508...|[0.91251073696754...|       0.0|0.91251075|\n",
            "|(115,[0,1,2,3,4,5...|    0|[18.2154600944029...|[0.91077300472014...|       0.0|  0.910773|\n",
            "|(115,[0,1,2,3,4,5...|    0|[18.3156218945254...|[0.91578109472627...|       0.0| 0.9157811|\n",
            "|(115,[0,1,2,3,4,5...|    0|[18.3071018645747...|[0.91535509322873...|       0.0| 0.9153551|\n",
            "|(115,[0,1,2,3,4,5...|    0|[18.3352371031386...|[0.91676185515693...|       0.0| 0.9167619|\n",
            "|(115,[0,1,2,3,4,5...|    0|[18.3156218945254...|[0.91578109472627...|       0.0| 0.9157811|\n",
            "|(115,[0,1,2,3,4,5...|    0|[18.3352371031386...|[0.91676185515693...|       0.0| 0.9167619|\n",
            "|(115,[0,1,2,3,4,5...|    0|[18.3156218945254...|[0.91578109472627...|       0.0| 0.9157811|\n",
            "|(115,[0,1,2,3,4,5...|    0|[18.3156218945254...|[0.91578109472627...|       0.0| 0.9157811|\n",
            "|(115,[0,1,2,3,4,5...|    0|[18.2525580537630...|[0.91262790268815...|       0.0| 0.9126279|\n",
            "|(115,[0,1,2,3,4,5...|    0|[18.2565498230855...|[0.91282749115427...|       0.0| 0.9128275|\n",
            "|(115,[0,1,2,3,4,5...|    0|[18.4190342268008...|[0.92095171134004...|       0.0| 0.9209517|\n",
            "|(115,[0,1,2,3,4,5...|    0|[18.4347807904871...|[0.92173903952435...|       0.0|0.92173904|\n",
            "+--------------------+-----+--------------------+--------------------+----------+----------+\n",
            "only showing top 20 rows\n",
            "\n"
          ]
        }
      ]
    },
    {
      "cell_type": "code",
      "source": [
        "print(\"Accuracy: %f\" % evaluator.evaluate(predictions_rfc_test, {evaluator.metricName: \"accuracy\"}))\n",
        "print(\"Precision: %f\" % evaluator.evaluate(predictions_rfc_test, {evaluator.metricName: \"precisionByLabel\", evaluator.metricLabel: 1}))\n",
        "print(\"Recall: %f\" % evaluator.evaluate(predictions_rfc_test, {evaluator.metricName: \"recallByLabel\", evaluator.metricLabel: 1}))\n",
        "print(\"F1: %f\" % evaluator.evaluate(predictions_rfc_test, {evaluator.metricName: \"fMeasureByLabel\", evaluator.metricLabel: 1}))"
      ],
      "metadata": {
        "colab": {
          "base_uri": "https://localhost:8080/"
        },
        "id": "SejrKEthV00u",
        "outputId": "a7ecd1f8-a233-42c3-8e23-a2957fba6b4a"
      },
      "execution_count": 71,
      "outputs": [
        {
          "output_type": "stream",
          "name": "stdout",
          "text": [
            "Accuracy: 0.840255\n",
            "Precision: 0.221730\n",
            "Recall: 0.309364\n",
            "F1: 0.258317\n"
          ]
        }
      ]
    },
    {
      "cell_type": "code",
      "source": [
        "#ROC CURVE\n",
        "my_eval = BinaryClassificationEvaluator(labelCol='label')\n",
        "print(my_eval.evaluate(predictions_rfc_test))"
      ],
      "metadata": {
        "colab": {
          "base_uri": "https://localhost:8080/"
        },
        "id": "Z2Rv1WzfSINP",
        "outputId": "386e8717-53ad-415e-c0a3-f37af24ea483"
      },
      "execution_count": 72,
      "outputs": [
        {
          "output_type": "stream",
          "name": "stdout",
          "text": [
            "0.6966032147063185\n"
          ]
        }
      ]
    },
    {
      "cell_type": "code",
      "source": [
        "confusion_matrix(predictions_rfc_test)"
      ],
      "metadata": {
        "colab": {
          "base_uri": "https://localhost:8080/"
        },
        "id": "M3WSNEOGWE-t",
        "outputId": "dfb96941-2676-4bb8-f591-4fde295c0f4b"
      },
      "execution_count": 73,
      "outputs": [
        {
          "output_type": "stream",
          "name": "stdout",
          "text": [
            "                     Predicted\n",
            "                     Defaulter     Non defaulter\n",
            "     Defaulter        1751         3909\n",
            "Actual\n",
            "     Non defaulter    6146         51138\n"
          ]
        }
      ]
    }
  ]
}